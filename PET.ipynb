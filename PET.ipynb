{
 "cells": [
  {
   "cell_type": "code",
   "execution_count": null,
   "metadata": {},
   "outputs": [],
   "source": [
    "import pandas as pd\n",
    "import numpy as np\n",
    "\n",
    "# Constants\n",
    "latitude_deg = 27.7  # Example latitude in degrees (change this to your location!)\n",
    "\n",
    "# Read your Excel file\n",
    "df = pd.read_excel(r\"C:\\Users\\DELL\\Downloads\\PETDATA.xlsx\")  # <-- change 'your_file.xlsx' to your real filename\n",
    "\n",
    "# Prepare extra column for PET\n",
    "PET_list = []\n",
    "\n",
    "# Function to calculate Ra (extraterrestrial radiation)\n",
    "def calculate_ra(julian_day, latitude_deg):\n",
    "    doy_factor = 2 * np.pi / 365\n",
    "    dr = 1 + 0.033 * np.cos(doy_factor * julian_day)\n",
    "    solar_declination = 0.409 * np.sin(doy_factor * julian_day - 1.405)\n",
    "    latitude_rad = np.radians(latitude_deg)\n",
    "    sunset_hour_angle = np.arccos(-np.tan(latitude_rad) * np.tan(solar_declination))\n",
    "    Ra = (24 * 60 / np.pi) * 0.082 * dr * (\n",
    "        sunset_hour_angle * np.sin(latitude_rad) * np.sin(solar_declination) +\n",
    "        np.cos(latitude_rad) * np.cos(solar_declination) * np.sin(sunset_hour_angle)\n",
    "    )\n",
    "    return Ra  # in MJ/m2/day\n",
    "\n",
    "# Assign approximate Julian day for each month\n",
    "julian_days = [15, 45, 75, 105, 135, 162, 198, 228, 258, 288, 318, 344]  # Middle of each month\n",
    "\n",
    "# Loop through each row\n",
    "for i, row in df.iterrows():\n",
    "    Tmax = row['Tmax']\n",
    "    Tmin = row['Tmin']\n",
    "    Temperature = (Tmax + Tmin) / 2\n",
    "    julian_day = julian_days[i]  # i = month index\n",
    "    \n",
    "    Ra = calculate_ra(julian_day, latitude_deg)\n",
    "    \n",
    "    PET = max(0.0023 * Ra * 0.408 * ((Tmax - Tmin) ** 0.5) * (Temperature + 17.8), 0)\n",
    "    PET_list.append(PET)\n",
    "\n",
    "# Add PET to DataFrame\n",
    "df['PET (mm/day)'] = PET_list\n",
    "\n",
    "# Save to new Excel file\n",
    "df.to_excel('PET_results.xlsx', index=False)\n",
    "\n",
    "print(\"PET calculated and saved to 'PET_results.xlsx'!\")\n"
   ]
  }
 ],
 "metadata": {
  "language_info": {
   "name": "python"
  }
 },
 "nbformat": 4,
 "nbformat_minor": 2
}
